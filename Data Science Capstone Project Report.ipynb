{
    "cells": [
        {
            "cell_type": "markdown",
            "metadata": {
                "collapsed": true
            },
            "source": "# Data Science Capstone Project Report"
        },
        {
            "cell_type": "markdown",
            "metadata": {},
            "source": "## Introduction/Business Understanding"
        },
        {
            "cell_type": "markdown",
            "metadata": {},
            "source": "My client has a company that helps people relocate from a country to Stockholm, Sweden. My client lives in Stockholm most of the time and has a Greek wife stationed in Athens. He has learned from his wife that, due to the current economic crisis in Greece, many young professionals are eger to leave Athens and relocate to Stockholm. These young professionals are fond of their current neighbourhoods in Athens and what they offer in terms of venues and would probably like to move to similar neighbourhoods in Stockholm.\n\nProblem/Question: My client would like to know if there it is possible to identify which neighbourhoods in Stockholm are similar to particular neighbourhoods in Athens?\n\nThe stakeholders of the project are my client and the professionals that would like to relocate from Stockholm to Athens."
        },
        {
            "cell_type": "markdown",
            "metadata": {},
            "source": "## Data"
        },
        {
            "cell_type": "markdown",
            "metadata": {},
            "source": "I intend to solve this problem using data from the following websites to construct a"
        }
    ],
    "metadata": {
        "kernelspec": {
            "display_name": "Python 3.6",
            "language": "python",
            "name": "python3"
        },
        "language_info": {
            "codemirror_mode": {
                "name": "ipython",
                "version": 3
            },
            "file_extension": ".py",
            "mimetype": "text/x-python",
            "name": "python",
            "nbconvert_exporter": "python",
            "pygments_lexer": "ipython3",
            "version": "3.6.9"
        }
    },
    "nbformat": 4,
    "nbformat_minor": 1
}